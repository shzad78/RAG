{
 "cells": [
  {
   "cell_type": "markdown",
   "id": "014f0960",
   "metadata": {},
   "source": [
    "### Build a RAG system"
   ]
  },
  {
   "cell_type": "code",
   "execution_count": null,
   "id": "4810a3e6",
   "metadata": {},
   "outputs": [],
   "source": [
    "import os\n",
    "from dotenv  import load_dotenv\n",
    "load_dotenv()"
   ]
  },
  {
   "cell_type": "code",
   "execution_count": null,
   "id": "025cc596",
   "metadata": {},
   "outputs": [],
   "source": []
  }
 ],
 "metadata": {
  "kernelspec": {
   "display_name": "RAG (3.12.11)",
   "language": "python",
   "name": "python3"
  },
  "language_info": {
   "name": "python",
   "version": "3.12.11"
  }
 },
 "nbformat": 4,
 "nbformat_minor": 5
}
