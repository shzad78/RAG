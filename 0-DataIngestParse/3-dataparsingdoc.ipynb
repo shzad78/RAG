{
 "cells": [
  {
   "cell_type": "markdown",
   "id": "7e7ac64f",
   "metadata": {},
   "source": [
    "### Word Document Processing"
   ]
  },
  {
   "cell_type": "code",
   "execution_count": 1,
   "id": "c90b8e33",
   "metadata": {},
   "outputs": [],
   "source": [
    "from langchain_community.document_loaders import Docx2txtLoader,UnstructuredWordDocumentLoader\n"
   ]
  },
  {
   "cell_type": "code",
   "execution_count": 9,
   "id": "62592c2a",
   "metadata": {},
   "outputs": [
    {
     "name": "stdout",
     "output_type": "stream",
     "text": [
      "1️⃣ Using Docx2txtLoader\n",
      "✅ Loaded 1 document(s)\n",
      "Content preview: Project Proposal: RAG Implementation\n",
      "\n",
      "Executive Summary\n",
      "\n",
      "This proposal outlines the implementation of a Retrieval-Augmented Generation system for our organization.\n",
      "\n",
      "Objectives\n",
      "\n",
      "Key objectives include:...\n",
      "Metadata: {'source': 'data/word_files/proposal.docx'}\n"
     ]
    }
   ],
   "source": [
    "## MEthod1: Using Docx2txtLoader\n",
    "print(\"1️⃣ Using Docx2txtLoader\")\n",
    "try:\n",
    "    docx_loader=Docx2txtLoader(\"data/word_files/proposal.docx\")\n",
    "    docs=docx_loader.load()\n",
    "    print(f\"✅ Loaded {len(docs)} document(s)\")\n",
    "    print(f\"Content preview: {docs[0].page_content[:200]}...\")\n",
    "    print(f\"Metadata: {docs[0].metadata}\")\n",
    "\n",
    "except Exception as e:\n",
    "    print(f\"Error: {e}\")"
   ]
  },
  {
   "cell_type": "code",
   "execution_count": 8,
   "id": "53b5752d",
   "metadata": {},
   "outputs": [
    {
     "name": "stdout",
     "output_type": "stream",
     "text": [
      "\n",
      "2️⃣ Using UnstructuredWordDocumentLoader\n",
      "✅ Loaded 20 elements\n",
      "\n",
      "Element 1:\n",
      "Type: Title\n",
      "Content: Project Proposal: RAG Implementation...\n",
      "\n",
      "Element 2:\n",
      "Type: Title\n",
      "Content: Executive Summary...\n",
      "\n",
      "Element 3:\n",
      "Type: NarrativeText\n",
      "Content: This proposal outlines the implementation of a Retrieval-Augmented Generation system for our organiz...\n"
     ]
    }
   ],
   "source": [
    "## MEthod2\n",
    "print(\"\\n2️⃣ Using UnstructuredWordDocumentLoader\")\n",
    "\n",
    "try:\n",
    "    unstructured_loader=UnstructuredWordDocumentLoader(\"data/word_files/proposal.docx\",mode=\"elements\")\n",
    "    unstructured_docs=unstructured_loader.load()\n",
    "    \n",
    "    print(f\"✅ Loaded {len(unstructured_docs)} elements\")\n",
    "    for i, doc in enumerate(unstructured_docs[:3]):\n",
    "        print(f\"\\nElement {i+1}:\")\n",
    "        print(f\"Type: {doc.metadata.get('category', 'unknown')}\")\n",
    "        print(f\"Content: {doc.page_content[:100]}...\")\n",
    "\n",
    "\n",
    "except Exception as e:\n",
    "    print(e) \n"
   ]
  },
  {
   "cell_type": "code",
   "execution_count": 11,
   "id": "41451ca9",
   "metadata": {},
   "outputs": [
    {
     "data": {
      "text/plain": [
       "Document(metadata={'source': 'data/word_files/proposal.docx', 'category_depth': 0, 'file_directory': 'data/word_files', 'filename': 'proposal.docx', 'last_modified': '2025-06-28T15:37:12', 'languages': ['eng'], 'filetype': 'application/vnd.openxmlformats-officedocument.wordprocessingml.document', 'category': 'Title', 'element_id': 'bb0410bfd160ef866f8d4357b0949db2'}, page_content='Project Proposal: RAG Implementation')"
      ]
     },
     "execution_count": 11,
     "metadata": {},
     "output_type": "execute_result"
    }
   ],
   "source": [
    "unstructured_docs[0]"
   ]
  },
  {
   "cell_type": "code",
   "execution_count": null,
   "id": "350b7a82",
   "metadata": {},
   "outputs": [],
   "source": []
  }
 ],
 "metadata": {
  "kernelspec": {
   "display_name": "RAG (3.12.11)",
   "language": "python",
   "name": "python3"
  },
  "language_info": {
   "codemirror_mode": {
    "name": "ipython",
    "version": 3
   },
   "file_extension": ".py",
   "mimetype": "text/x-python",
   "name": "python",
   "nbconvert_exporter": "python",
   "pygments_lexer": "ipython3",
   "version": "3.12.11"
  }
 },
 "nbformat": 4,
 "nbformat_minor": 5
}
